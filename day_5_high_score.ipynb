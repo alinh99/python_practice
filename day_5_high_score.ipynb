{
 "cells": [
  {
   "cell_type": "code",
   "execution_count": 19,
   "id": "99a3485b",
   "metadata": {},
   "outputs": [
    {
     "name": "stdout",
     "output_type": "stream",
     "text": [
      "Input a list of student scores 12 13 14 15\n",
      "[12, 13, 14, 15]\n",
      "The highest score in the class is: 15\n"
     ]
    }
   ],
   "source": [
    "student_scores = input(\"Input a list of student scores \").split()\n",
    "for n in range(0, len(student_scores)):\n",
    "    student_scores[n] = int(student_scores[n])\n",
    "print(student_scores)\n",
    "highest_score = 0\n",
    "lowest_score = 0\n",
    "for high_score in student_scores:\n",
    "    if high_score > highest_score:\n",
    "        highest_score = high_score\n",
    "\n",
    "print(\"The highest score in the class is:\", highest_score)\n",
    "# print(\"The lowest score in the class is:\", lowest_score)"
   ]
  },
  {
   "cell_type": "code",
   "execution_count": 57,
   "id": "5a7d401a",
   "metadata": {},
   "outputs": [
    {
     "name": "stdout",
     "output_type": "stream",
     "text": [
      "Input a list of student scores 2 3 0\n",
      "[2, 3, 0]\n",
      "The lowest score in the class is: 0\n"
     ]
    }
   ],
   "source": [
    "student_scores = input(\"Input a list of student scores \").split()\n",
    "for n in range(0, len(student_scores)):\n",
    "    student_scores[n] = int(student_scores[n])\n",
    "print(student_scores)\n",
    "lowest_score = student_scores[-1]\n",
    "for score in student_scores:\n",
    "    if score < lowest_score:\n",
    "        lowest_score = score\n",
    "print(\"The lowest score in the class is:\", lowest_score)"
   ]
  },
  {
   "cell_type": "markdown",
   "id": "96af8a15",
   "metadata": {},
   "source": [
    "# "
   ]
  },
  {
   "cell_type": "code",
   "execution_count": null,
   "id": "c65ebb2a",
   "metadata": {},
   "outputs": [],
   "source": []
  }
 ],
 "metadata": {
  "kernelspec": {
   "display_name": "Python 3 (ipykernel)",
   "language": "python",
   "name": "python3"
  },
  "language_info": {
   "codemirror_mode": {
    "name": "ipython",
    "version": 3
   },
   "file_extension": ".py",
   "mimetype": "text/x-python",
   "name": "python",
   "nbconvert_exporter": "python",
   "pygments_lexer": "ipython3",
   "version": "3.9.12"
  }
 },
 "nbformat": 4,
 "nbformat_minor": 5
}
