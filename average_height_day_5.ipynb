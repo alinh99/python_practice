{
 "cells": [
  {
   "cell_type": "code",
   "execution_count": 28,
   "id": "65d89033",
   "metadata": {},
   "outputs": [
    {
     "name": "stdout",
     "output_type": "stream",
     "text": [
      "Input a list of student heights 156 178 165 171 187\n",
      "[156, 178, 165, 171, 187]\n",
      "171\n"
     ]
    }
   ],
   "source": [
    "student_heights = input('Input a list of student heights ').split()\n",
    "for n in range(0, len(student_heights)):\n",
    "    student_heights[n] = int(student_heights[n])\n",
    "#     print(student_heights[n])\n",
    "print(student_heights)\n",
    "heights_total = 0\n",
    "student_total = 0\n",
    "for height in student_heights:\n",
    "    heights_total += height\n",
    "for student in student_heights:\n",
    "    student_total += 1\n",
    "average_height = heights_total / student_total\n",
    "print(round(average_height))"
   ]
  },
  {
   "cell_type": "code",
   "execution_count": 13,
   "id": "5facad09",
   "metadata": {},
   "outputs": [
    {
     "name": "stdout",
     "output_type": "stream",
     "text": [
      "1\n"
     ]
    }
   ],
   "source": []
  },
  {
   "cell_type": "code",
   "execution_count": null,
   "id": "2f32bafb",
   "metadata": {},
   "outputs": [],
   "source": []
  }
 ],
 "metadata": {
  "kernelspec": {
   "display_name": "Python 3 (ipykernel)",
   "language": "python",
   "name": "python3"
  },
  "language_info": {
   "codemirror_mode": {
    "name": "ipython",
    "version": 3
   },
   "file_extension": ".py",
   "mimetype": "text/x-python",
   "name": "python",
   "nbconvert_exporter": "python",
   "pygments_lexer": "ipython3",
   "version": "3.8.13"
  }
 },
 "nbformat": 4,
 "nbformat_minor": 5
}
