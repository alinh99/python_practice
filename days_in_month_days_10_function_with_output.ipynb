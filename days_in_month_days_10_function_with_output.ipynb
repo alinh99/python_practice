{
 "cells": [
  {
   "cell_type": "code",
   "execution_count": 19,
   "id": "c8a4792b",
   "metadata": {},
   "outputs": [
    {
     "name": "stdout",
     "output_type": "stream",
     "text": [
      "Enter a year: 2000\n",
      "Enter a month: 13\n"
     ]
    },
    {
     "ename": "IndexError",
     "evalue": "list index out of range",
     "output_type": "error",
     "traceback": [
      "\u001b[0;31m---------------------------------------------------------------------------\u001b[0m",
      "\u001b[0;31mIndexError\u001b[0m                                Traceback (most recent call last)",
      "Input \u001b[0;32mIn [19]\u001b[0m, in \u001b[0;36m<cell line: 63>\u001b[0;34m()\u001b[0m\n\u001b[1;32m     61\u001b[0m year \u001b[38;5;241m=\u001b[39m \u001b[38;5;28mint\u001b[39m(\u001b[38;5;28minput\u001b[39m(\u001b[38;5;124m\"\u001b[39m\u001b[38;5;124mEnter a year: \u001b[39m\u001b[38;5;124m\"\u001b[39m))\n\u001b[1;32m     62\u001b[0m month \u001b[38;5;241m=\u001b[39m \u001b[38;5;28mint\u001b[39m(\u001b[38;5;28minput\u001b[39m(\u001b[38;5;124m\"\u001b[39m\u001b[38;5;124mEnter a month: \u001b[39m\u001b[38;5;124m\"\u001b[39m))\n\u001b[0;32m---> 63\u001b[0m days \u001b[38;5;241m=\u001b[39m \u001b[43mdays_in_month\u001b[49m\u001b[43m(\u001b[49m\u001b[43myear\u001b[49m\u001b[43m,\u001b[49m\u001b[43m \u001b[49m\u001b[43mmonth\u001b[49m\u001b[43m)\u001b[49m\n\u001b[1;32m     64\u001b[0m \u001b[38;5;28mprint\u001b[39m(days)\n",
      "Input \u001b[0;32mIn [19]\u001b[0m, in \u001b[0;36mdays_in_month\u001b[0;34m(year, month)\u001b[0m\n\u001b[1;32m     56\u001b[0m \u001b[38;5;28;01mif\u001b[39;00m is_leap(year) \u001b[38;5;129;01mand\u001b[39;00m month \u001b[38;5;241m==\u001b[39m \u001b[38;5;241m2\u001b[39m:\n\u001b[1;32m     57\u001b[0m     \u001b[38;5;28;01mreturn\u001b[39;00m \u001b[38;5;241m29\u001b[39m\n\u001b[0;32m---> 58\u001b[0m \u001b[38;5;28;01mreturn\u001b[39;00m \u001b[43mmonth_days\u001b[49m\u001b[43m[\u001b[49m\u001b[43mmonth\u001b[49m\u001b[43m \u001b[49m\u001b[38;5;241;43m-\u001b[39;49m\u001b[43m \u001b[49m\u001b[38;5;241;43m1\u001b[39;49m\u001b[43m]\u001b[49m\n",
      "\u001b[0;31mIndexError\u001b[0m: list index out of range"
     ]
    }
   ],
   "source": [
    "# month_days = [31, 28, 31, 30, 31, 30, 31, 31, 30, 31, 30, 31]\n",
    "def is_leap(year):\n",
    "    if year % 4 == 0:\n",
    "        if year % 100 == 0:\n",
    "            if year % 400 == 0:\n",
    "                return True\n",
    "            else:\n",
    "                return False\n",
    "        else:\n",
    "            return True\n",
    "    else:\n",
    "        return False\n",
    "# def find_days(year, month):\n",
    "#     for day in month_days:\n",
    "#         if is_leap(year) and month == 2:\n",
    "#             day = 29\n",
    "#             return day\n",
    "#         elif not is_leap(year) and month == 2:\n",
    "#             day = month_days[1]\n",
    "#             return day\n",
    "#         elif month == 1:\n",
    "#             day = month_days[0]\n",
    "#             return day\n",
    "#         elif month == 3:\n",
    "#             day = month_days[2]\n",
    "#             return day\n",
    "#         elif month == 4:\n",
    "#             day = month_days[3]\n",
    "#             return day\n",
    "#         elif month == 5:\n",
    "#             day = month_days[4]\n",
    "#             return day\n",
    "#         elif month == 6:\n",
    "#             day = month_days[5]\n",
    "#             return day\n",
    "#         elif month == 7:\n",
    "#             day = month_days[6]\n",
    "#             return day\n",
    "#         elif month == 8:\n",
    "#             day = month_days[7]\n",
    "#             return day\n",
    "#         elif month == 9:\n",
    "#             day = month_days[8]\n",
    "#             return day\n",
    "#         elif month == 10:\n",
    "#             day = month_days[9]\n",
    "#             return day\n",
    "#         elif month == 11:\n",
    "#             day = month_days[10]\n",
    "#             return day\n",
    "#         elif month == 12:\n",
    "#             day = month_days[11]\n",
    "#             return day\n",
    "def days_in_month(year, month):\n",
    "    month_days = [31, 28, 31, 30, 31, 30, 31, 31, 30, 31, 30, 31]\n",
    "    if is_leap(year) and month == 2:\n",
    "        return 29\n",
    "    return month_days[month - 1]\n",
    "\n",
    "#🚨 Do NOT change any of the code below \n",
    "year = int(input(\"Enter a year: \"))\n",
    "month = int(input(\"Enter a month: \"))\n",
    "days = days_in_month(year, month)\n",
    "print(days)"
   ]
  },
  {
   "cell_type": "code",
   "execution_count": null,
   "id": "a77b0f52",
   "metadata": {},
   "outputs": [],
   "source": []
  },
  {
   "cell_type": "code",
   "execution_count": null,
   "id": "dc99d16d",
   "metadata": {},
   "outputs": [],
   "source": []
  }
 ],
 "metadata": {
  "kernelspec": {
   "display_name": "Python 3 (ipykernel)",
   "language": "python",
   "name": "python3"
  },
  "language_info": {
   "codemirror_mode": {
    "name": "ipython",
    "version": 3
   },
   "file_extension": ".py",
   "mimetype": "text/x-python",
   "name": "python",
   "nbconvert_exporter": "python",
   "pygments_lexer": "ipython3",
   "version": "3.9.12"
  }
 },
 "nbformat": 4,
 "nbformat_minor": 5
}
