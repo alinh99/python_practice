{
 "cells": [
  {
   "cell_type": "code",
   "execution_count": 4,
   "id": "9c56e7d2",
   "metadata": {},
   "outputs": [
    {
     "name": "stdout",
     "output_type": "stream",
     "text": [
      "Requirement already satisfied: replit in /home/alinh99/anaconda3/lib/python3.9/site-packages (3.2.4)\n",
      "Requirement already satisfied: typing_extensions<4.0.0,>=3.7.4 in /home/alinh99/anaconda3/lib/python3.9/site-packages (from replit) (3.10.0.2)\n",
      "Requirement already satisfied: Flask<3.0.0,>=2.0.0 in /home/alinh99/anaconda3/lib/python3.9/site-packages (from replit) (2.2.2)\n",
      "Requirement already satisfied: aiohttp<4.0.0,>=3.6.2 in /home/alinh99/anaconda3/lib/python3.9/site-packages (from replit) (3.8.1)\n",
      "Requirement already satisfied: Werkzeug<3.0.0,>=2.0.0 in /home/alinh99/anaconda3/lib/python3.9/site-packages (from replit) (2.2.2)\n",
      "Requirement already satisfied: requests<3.0.0,>=2.25.1 in /home/alinh99/anaconda3/lib/python3.9/site-packages (from replit) (2.28.1)\n",
      "Requirement already satisfied: charset-normalizer<3.0,>=2.0 in /home/alinh99/anaconda3/lib/python3.9/site-packages (from aiohttp<4.0.0,>=3.6.2->replit) (2.0.4)\n",
      "Requirement already satisfied: attrs>=17.3.0 in /home/alinh99/anaconda3/lib/python3.9/site-packages (from aiohttp<4.0.0,>=3.6.2->replit) (21.4.0)\n",
      "Requirement already satisfied: async-timeout<5.0,>=4.0.0a3 in /home/alinh99/anaconda3/lib/python3.9/site-packages (from aiohttp<4.0.0,>=3.6.2->replit) (4.0.1)\n",
      "Requirement already satisfied: aiosignal>=1.1.2 in /home/alinh99/anaconda3/lib/python3.9/site-packages (from aiohttp<4.0.0,>=3.6.2->replit) (1.2.0)\n",
      "Requirement already satisfied: multidict<7.0,>=4.5 in /home/alinh99/anaconda3/lib/python3.9/site-packages (from aiohttp<4.0.0,>=3.6.2->replit) (5.2.0)\n",
      "Requirement already satisfied: yarl<2.0,>=1.0 in /home/alinh99/anaconda3/lib/python3.9/site-packages (from aiohttp<4.0.0,>=3.6.2->replit) (1.8.1)\n",
      "Requirement already satisfied: frozenlist>=1.1.1 in /home/alinh99/anaconda3/lib/python3.9/site-packages (from aiohttp<4.0.0,>=3.6.2->replit) (1.2.0)\n",
      "Requirement already satisfied: Jinja2>=3.0 in /home/alinh99/anaconda3/lib/python3.9/site-packages (from Flask<3.0.0,>=2.0.0->replit) (3.1.2)\n",
      "Requirement already satisfied: importlib-metadata>=3.6.0 in /home/alinh99/anaconda3/lib/python3.9/site-packages (from Flask<3.0.0,>=2.0.0->replit) (4.11.3)\n",
      "Requirement already satisfied: itsdangerous>=2.0 in /home/alinh99/anaconda3/lib/python3.9/site-packages (from Flask<3.0.0,>=2.0.0->replit) (2.0.1)\n",
      "Requirement already satisfied: click>=8.0 in /home/alinh99/anaconda3/lib/python3.9/site-packages (from Flask<3.0.0,>=2.0.0->replit) (8.0.4)\n",
      "Requirement already satisfied: urllib3<1.27,>=1.21.1 in /home/alinh99/anaconda3/lib/python3.9/site-packages (from requests<3.0.0,>=2.25.1->replit) (1.26.11)\n",
      "Requirement already satisfied: idna<4,>=2.5 in /home/alinh99/anaconda3/lib/python3.9/site-packages (from requests<3.0.0,>=2.25.1->replit) (3.3)\n",
      "Requirement already satisfied: certifi>=2017.4.17 in /home/alinh99/anaconda3/lib/python3.9/site-packages (from requests<3.0.0,>=2.25.1->replit) (2022.6.15)\n",
      "Requirement already satisfied: MarkupSafe>=2.1.1 in /home/alinh99/anaconda3/lib/python3.9/site-packages (from Werkzeug<3.0.0,>=2.0.0->replit) (2.1.1)\n",
      "Requirement already satisfied: zipp>=0.5 in /home/alinh99/anaconda3/lib/python3.9/site-packages (from importlib-metadata>=3.6.0->Flask<3.0.0,>=2.0.0->replit) (3.8.0)\n",
      "Note: you may need to restart the kernel to use updated packages.\n"
     ]
    }
   ],
   "source": [
    "pip install replit"
   ]
  },
  {
   "cell_type": "code",
   "execution_count": 59,
   "id": "1b7f4c98",
   "metadata": {},
   "outputs": [
    {
     "name": "stdout",
     "output_type": "stream",
     "text": [
      "\n",
      "                        ___________\n",
      "                         \\         /\n",
      "                          )_______(\n",
      "                          |\"\"\"\"\"\"\"|_.-._,.---------.,_.-._\n",
      "                          |       | | |               | | ''-.\n",
      "                          |       |_| |_             _| |_..-'\n",
      "                          |_______| '-' `'---------'` '-'\n",
      "                          )\"\"\"\"\"\"\"(\n",
      "                         /_________\\\n",
      "                       .-------------.\n",
      "                      /_______________\\\n",
      "\n",
      "Welcome to the secret auction program.\n",
      "What is your name?: a\n",
      "What's your bid?: $2\n",
      "Are there any other bidders? Type 'yes' or 'no.'y\n",
      "What is your name?: b\n",
      "What's your bid?: $3\n",
      "Are there any other bidders? Type 'yes' or 'no.'y\n",
      "What is your name?: c\n",
      "What's your bid?: $4\n",
      "Are there any other bidders? Type 'yes' or 'no.'y\n",
      "What is your name?: d\n",
      "What's your bid?: $0\n",
      "Are there any other bidders? Type 'yes' or 'no.'n\n",
      "The winner is d with a bid of $4\n"
     ]
    }
   ],
   "source": [
    "from replit import clear\n",
    "logo = '''\n",
    "                        ___________\n",
    "                         \\         /\n",
    "                          )_______(\n",
    "                          |\"\"\"\"\"\"\"|_.-._,.---------.,_.-._\n",
    "                          |       | | |               | | ''-.\n",
    "                          |       |_| |_             _| |_..-'\n",
    "                          |_______| '-' `'---------'` '-'\n",
    "                          )\"\"\"\"\"\"\"(\n",
    "                         /_________\\\\\n",
    "                       .-------------.\n",
    "                      /_______________\\\\\n",
    "'''\n",
    "print(logo)\n",
    "print(\"Welcome to the secret auction program.\")\n",
    "is_checked = True\n",
    "player_list = []\n",
    "score = 0\n",
    "while is_checked:\n",
    "    name = input(\"What is your name?: \")\n",
    "    bid = int(input(\"What's your bid?: $\"))\n",
    "    player_list.append({name: bid})\n",
    "    for player in player_list:\n",
    "        for max_score in player:\n",
    "            if player[max_score] > score:\n",
    "                score = player[max_score]\n",
    "    checked = input(\"Are there any other bidders? Type 'yes' or 'no.'\")\n",
    "    if checked.startswith('n'):\n",
    "        is_checked = False\n",
    "        print(f\"The winner is {name} with a bid of ${score}\")\n"
   ]
  },
  {
   "cell_type": "code",
   "execution_count": null,
   "id": "aad6c8cd",
   "metadata": {},
   "outputs": [],
   "source": []
  },
  {
   "cell_type": "code",
   "execution_count": null,
   "id": "5e48dd5d",
   "metadata": {},
   "outputs": [],
   "source": []
  },
  {
   "cell_type": "code",
   "execution_count": null,
   "id": "c08d6c96",
   "metadata": {},
   "outputs": [],
   "source": []
  }
 ],
 "metadata": {
  "kernelspec": {
   "display_name": "Python 3 (ipykernel)",
   "language": "python",
   "name": "python3"
  },
  "language_info": {
   "codemirror_mode": {
    "name": "ipython",
    "version": 3
   },
   "file_extension": ".py",
   "mimetype": "text/x-python",
   "name": "python",
   "nbconvert_exporter": "python",
   "pygments_lexer": "ipython3",
   "version": "3.9.12"
  }
 },
 "nbformat": 4,
 "nbformat_minor": 5
}
