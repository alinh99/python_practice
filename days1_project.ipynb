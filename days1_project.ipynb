{
 "cells": [
  {
   "cell_type": "code",
   "execution_count": 2,
   "id": "3bf9a617",
   "metadata": {},
   "outputs": [
    {
     "name": "stdout",
     "output_type": "stream",
     "text": [
      "Welcome to the Band Name Generator\n",
      "What's name of the city you grew up in?\n",
      "Danang\n",
      "What's your pet name?\n",
      "Bon\n",
      "Your band name could be Danang Bon\n"
     ]
    }
   ],
   "source": [
    "print('Welcome to the Band Name Generator')\n",
    "city_name = input('What\\'s name of the city you grew up in?\\n')\n",
    "pet_name = input('What\\'s your pet name?\\n')\n",
    "print('Your band name could be', city_name + ' ' + pet_name)"
   ]
  },
  {
   "cell_type": "code",
   "execution_count": null,
   "id": "86fdb35d",
   "metadata": {},
   "outputs": [],
   "source": []
  }
 ],
 "metadata": {
  "kernelspec": {
   "display_name": "Python 3 (ipykernel)",
   "language": "python",
   "name": "python3"
  },
  "language_info": {
   "codemirror_mode": {
    "name": "ipython",
    "version": 3
   },
   "file_extension": ".py",
   "mimetype": "text/x-python",
   "name": "python",
   "nbconvert_exporter": "python",
   "pygments_lexer": "ipython3",
   "version": "3.8.13"
  }
 },
 "nbformat": 4,
 "nbformat_minor": 5
}
