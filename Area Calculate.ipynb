{
 "cells": [
  {
   "cell_type": "code",
   "execution_count": 19,
   "id": "9a569056",
   "metadata": {},
   "outputs": [
    {
     "name": "stdout",
     "output_type": "stream",
     "text": [
      "Height of wall: 3\n",
      "Weight of wall: 9\n"
     ]
    }
   ],
   "source": [
    "test_h = int(input(\"Height of wall: \"))\n",
    "test_w = int(input(\"Weight of wall: \"))\n",
    "coverage = 5"
   ]
  },
  {
   "cell_type": "code",
   "execution_count": 20,
   "id": "2f959716",
   "metadata": {},
   "outputs": [
    {
     "name": "stdout",
     "output_type": "stream",
     "text": [
      "You'll need 6 cans of paint\n"
     ]
    }
   ],
   "source": [
    "import math\n",
    "def paint_calc(width, height, cover):\n",
    "    number_of_cans = math.ceil((width*height)/cover)\n",
    "    print(f\"You'll need {number_of_cans} cans of paint\")\n",
    "paint_calc(height=test_h, width=test_w, cover=coverage)"
   ]
  },
  {
   "cell_type": "code",
   "execution_count": null,
   "id": "0af580ca",
   "metadata": {},
   "outputs": [],
   "source": []
  }
 ],
 "metadata": {
  "kernelspec": {
   "display_name": "Python 3 (ipykernel)",
   "language": "python",
   "name": "python3"
  },
  "language_info": {
   "codemirror_mode": {
    "name": "ipython",
    "version": 3
   },
   "file_extension": ".py",
   "mimetype": "text/x-python",
   "name": "python",
   "nbconvert_exporter": "python",
   "pygments_lexer": "ipython3",
   "version": "3.9.12"
  }
 },
 "nbformat": 4,
 "nbformat_minor": 5
}
