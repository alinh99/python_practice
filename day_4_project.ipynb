{
 "cells": [
  {
   "cell_type": "code",
   "execution_count": 22,
   "id": "ff4cdef1",
   "metadata": {},
   "outputs": [
    {
     "name": "stdout",
     "output_type": "stream",
     "text": [
      "What do you choose? Type 0 for Rock, 1 for Paper or 2 for Scissors.\n",
      "2\n",
      "\n",
      "    _______\n",
      "---'   ____)____\n",
      "          ______)\n",
      "       __________)\n",
      "      (____)\n",
      "---.__(___)\n",
      "\n",
      "Computer chose:\n",
      "\n",
      "    _______\n",
      "---'   ____)\n",
      "      (_____)\n",
      "      (_____)\n",
      "      (____)\n",
      "---.__(___)\n",
      "\n",
      "You lose.\n"
     ]
    }
   ],
   "source": [
    "import random\n",
    "\n",
    "rock = '''\n",
    "    _______\n",
    "---'   ____)\n",
    "      (_____)\n",
    "      (_____)\n",
    "      (____)\n",
    "---.__(___)\n",
    "'''\n",
    "\n",
    "paper = '''\n",
    "    _______\n",
    "---'   ____)____\n",
    "          ______)\n",
    "          _______)\n",
    "         _______)\n",
    "---.__________)\n",
    "'''\n",
    "\n",
    "scissors = '''\n",
    "    _______\n",
    "---'   ____)____\n",
    "          ______)\n",
    "       __________)\n",
    "      (____)\n",
    "---.__(___)\n",
    "'''\n",
    "game_images = [rock, paper, scissors]\n",
    "user_choice = int(input(\"What do you choose? Type 0 for Rock, 1 for Paper or 2 for Scissors.\\n\"))\n",
    "print(game_images[user_choice])\n",
    "computer_choice = random.randint(0, 2)\n",
    "print('Computer chose:')\n",
    "print(game_images[computer_choice])\n",
    "if(user_choice == 0 and computer_choice == 2):\n",
    "    print('You win.')\n",
    "elif(user_choice == 0 and computer_choice == 1):\n",
    "    print('You lose.')\n",
    "elif(user_choice == 1 and computer_choice == 0):\n",
    "    print('You win.')\n",
    "elif(user_choice == 1 and computer_choice == 2):\n",
    "    print('You lose.')\n",
    "elif(user_choice == 2 and computer_choice == 0):\n",
    "    print('You lose.')\n",
    "elif(user_choice == 2 and computer_choice == 1):\n",
    "    print('You win.')\n",
    "else:\n",
    "    print('Draw.')"
   ]
  },
  {
   "cell_type": "code",
   "execution_count": null,
   "id": "a0ef76ac",
   "metadata": {},
   "outputs": [],
   "source": []
  },
  {
   "cell_type": "code",
   "execution_count": null,
   "id": "40cd190f",
   "metadata": {},
   "outputs": [],
   "source": []
  }
 ],
 "metadata": {
  "kernelspec": {
   "display_name": "Python 3 (ipykernel)",
   "language": "python",
   "name": "python3"
  },
  "language_info": {
   "codemirror_mode": {
    "name": "ipython",
    "version": 3
   },
   "file_extension": ".py",
   "mimetype": "text/x-python",
   "name": "python",
   "nbconvert_exporter": "python",
   "pygments_lexer": "ipython3",
   "version": "3.8.13"
  }
 },
 "nbformat": 4,
 "nbformat_minor": 5
}
