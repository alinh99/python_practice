{
 "cells": [
  {
   "cell_type": "code",
   "execution_count": 34,
   "id": "fffdf538",
   "metadata": {},
   "outputs": [
    {
     "name": "stdout",
     "output_type": "stream",
     "text": [
      "Type 'encode' to encrypt, type 'decode' to decrypt:\n",
      "e\n",
      "Type your message:\n",
      "hello world\n",
      "Type the shift number:\n",
      "9\n",
      "qnuux fxaum\n",
      "Type 'yes' if you want to try again. Otherwise, type 'no'.y\n",
      "Type 'encode' to encrypt, type 'decode' to decrypt:\n",
      "e\n",
      "Type your message:\n",
      "hello world\n",
      "Type the shift number:\n",
      "9\n",
      "qnuux fxaum\n",
      "Type 'yes' if you want to try again. Otherwise, type 'no'.n\n",
      "Goodbye\n"
     ]
    }
   ],
   "source": [
    "def caesar(direction, text, shift):\n",
    "    result_text = \"\"\n",
    "    if(direction.lower().startswith('d')):\n",
    "        shift *= -1\n",
    "    for letter in text:\n",
    "        if letter in alphabet:\n",
    "            text_index = alphabet.index(letter)\n",
    "            shift_text_index = text_index + shift\n",
    "            result_text += alphabet[shift_text_index]\n",
    "        else:\n",
    "            result_text += letter\n",
    "    print(result_text)\n",
    "is_continue = True\n",
    "alphabet = ['a', 'b', 'c', 'd', 'e', 'f', 'g', 'h', 'i', 'j', 'k', 'l', 'm', 'n', 'o', 'p', 'q', 'r', 's', 't', 'u', 'v', 'w', 'x', 'y', 'z',\n",
    "               'a', 'b', 'c', 'd', 'e', 'f', 'g', 'h', 'i', 'j', 'k', 'l', 'm', 'n', 'o', 'p', 'q', 'r', 's', 't', 'u', 'v', 'w', 'x', 'y', 'z']\n",
    "# direction = input(\"Type 'encode' to encrypt, type 'decode' to decrypt:\\n\")\n",
    "# text = input(\"Type your message:\\n\").lower()\n",
    "# shift = int(input(\"Type the shift number:\\n\"))\n",
    "# shift = shift%26\n",
    "# caesar(direction, text, shift)\n",
    "# restart = input(\"Type 'yes' if you want to try again. Otherwise, type 'no'.\")\n",
    "while is_continue:\n",
    "    direction = input(\"Type 'encode' to encrypt, type 'decode' to decrypt:\\n\")\n",
    "    text = input(\"Type your message:\\n\").lower()\n",
    "    shift = int(input(\"Type the shift number:\\n\"))\n",
    "    shift = shift%26\n",
    "    caesar(direction, text, shift)\n",
    "    restart = input(\"Type 'yes' if you want to try again. Otherwise, type 'no'.\")\n",
    "    if restart.startswith('n'):\n",
    "        print(\"Goodbye\")\n",
    "        is_continue = False\n",
    "        \n"
   ]
  },
  {
   "cell_type": "code",
   "execution_count": null,
   "id": "3e2c259b",
   "metadata": {},
   "outputs": [],
   "source": []
  },
  {
   "cell_type": "code",
   "execution_count": null,
   "id": "5ba169f4",
   "metadata": {},
   "outputs": [],
   "source": []
  }
 ],
 "metadata": {
  "kernelspec": {
   "display_name": "Python 3 (ipykernel)",
   "language": "python",
   "name": "python3"
  },
  "language_info": {
   "codemirror_mode": {
    "name": "ipython",
    "version": 3
   },
   "file_extension": ".py",
   "mimetype": "text/x-python",
   "name": "python",
   "nbconvert_exporter": "python",
   "pygments_lexer": "ipython3",
   "version": "3.9.12"
  }
 },
 "nbformat": 4,
 "nbformat_minor": 5
}
