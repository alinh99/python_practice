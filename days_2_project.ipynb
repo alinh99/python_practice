{
 "cells": [
  {
   "cell_type": "code",
   "execution_count": 9,
   "id": "75b81a93",
   "metadata": {},
   "outputs": [
    {
     "name": "stdout",
     "output_type": "stream",
     "text": [
      "Welcome to the tip calculator.\n",
      "What was the total bill? $124.56\n",
      "What percentage tip would you like to give? 10, 12, or 15? 12\n",
      "How many people to split the bill? 7\n",
      "Each person should pay: $19.93\n"
     ]
    }
   ],
   "source": [
    "print('Welcome to the tip calculator.')\n",
    "bill_total = float(input('What was the total bill? $'))\n",
    "tip_percentage = int(input('What percentage tip would you like to give? 10, 12, or 15? '))\n",
    "tip_result = bill_total * tip_percentage / 100\n",
    "pay_total = bill_total + tip_result\n",
    "split_people = int(input('How many people to split the bill? '))\n",
    "pay_for_one = pay_total / split_people\n",
    "final_amount = round(pay_for_one, 2)\n",
    "print(f\"Each person should pay: ${final_amount}\")"
   ]
  },
  {
   "cell_type": "code",
   "execution_count": null,
   "id": "bc25910f",
   "metadata": {},
   "outputs": [],
   "source": []
  },
  {
   "cell_type": "code",
   "execution_count": null,
   "id": "b41ad3e6",
   "metadata": {},
   "outputs": [],
   "source": []
  }
 ],
 "metadata": {
  "kernelspec": {
   "display_name": "Python 3 (ipykernel)",
   "language": "python",
   "name": "python3"
  },
  "language_info": {
   "codemirror_mode": {
    "name": "ipython",
    "version": 3
   },
   "file_extension": ".py",
   "mimetype": "text/x-python",
   "name": "python",
   "nbconvert_exporter": "python",
   "pygments_lexer": "ipython3",
   "version": "3.8.13"
  }
 },
 "nbformat": 4,
 "nbformat_minor": 5
}
