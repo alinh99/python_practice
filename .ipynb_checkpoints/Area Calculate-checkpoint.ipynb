{
 "cells": [
  {
   "cell_type": "code",
   "execution_count": 1,
   "id": "a3b954bd",
   "metadata": {},
   "outputs": [
    {
     "name": "stdout",
     "output_type": "stream",
     "text": [
      "Height of wall: 2\n",
      "Weight of wall: 4\n"
     ]
    },
    {
     "ename": "NameError",
     "evalue": "name 'paint_calc' is not defined",
     "output_type": "error",
     "traceback": [
      "\u001b[0;31m---------------------------------------------------------------------------\u001b[0m",
      "\u001b[0;31mNameError\u001b[0m                                 Traceback (most recent call last)",
      "Input \u001b[0;32mIn [1]\u001b[0m, in \u001b[0;36m<cell line: 4>\u001b[0;34m()\u001b[0m\n\u001b[1;32m      2\u001b[0m test_w \u001b[38;5;241m=\u001b[39m \u001b[38;5;28mint\u001b[39m(\u001b[38;5;28minput\u001b[39m(\u001b[38;5;124m\"\u001b[39m\u001b[38;5;124mWeight of wall: \u001b[39m\u001b[38;5;124m\"\u001b[39m))\n\u001b[1;32m      3\u001b[0m coverage \u001b[38;5;241m=\u001b[39m \u001b[38;5;241m5\u001b[39m\n\u001b[0;32m----> 4\u001b[0m \u001b[43mpaint_calc\u001b[49m(height\u001b[38;5;241m=\u001b[39mtest_h, width\u001b[38;5;241m=\u001b[39mtest_w, cover\u001b[38;5;241m=\u001b[39mcoverage)\n\u001b[1;32m      5\u001b[0m \u001b[38;5;28;01mdef\u001b[39;00m \u001b[38;5;21mpaint_calc\u001b[39m(width, height, cover):\n\u001b[1;32m      6\u001b[0m     number_of_cans \u001b[38;5;241m=\u001b[39m (width\u001b[38;5;241m*\u001b[39mheight)\u001b[38;5;241m/\u001b[39mcover\n",
      "\u001b[0;31mNameError\u001b[0m: name 'paint_calc' is not defined"
     ]
    }
   ],
   "source": [
    "test_h = int(input(\"Height of wall: \"))\n",
    "test_w = int(input(\"Weight of wall: \"))\n",
    "coverage = 5\n",
    "def paint_calc(width, height, cover):\n",
    "    number_of_cans = (width*height)/cover\n",
    "    print(number_of_cans)\n",
    "paint_calc(height=test_h, width=test_w, cover=coverage)\n"
   ]
  },
  {
   "cell_type": "code",
   "execution_count": null,
   "id": "face552e",
   "metadata": {},
   "outputs": [],
   "source": []
  }
 ],
 "metadata": {
  "kernelspec": {
   "display_name": "Python 3 (ipykernel)",
   "language": "python",
   "name": "python3"
  },
  "language_info": {
   "codemirror_mode": {
    "name": "ipython",
    "version": 3
   },
   "file_extension": ".py",
   "mimetype": "text/x-python",
   "name": "python",
   "nbconvert_exporter": "python",
   "pygments_lexer": "ipython3",
   "version": "3.9.12"
  }
 },
 "nbformat": 4,
 "nbformat_minor": 5
}
