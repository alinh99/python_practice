{
 "cells": [
  {
   "cell_type": "code",
   "execution_count": 20,
   "id": "9dc300bd",
   "metadata": {},
   "outputs": [
    {
     "name": "stdout",
     "output_type": "stream",
     "text": [
      "['_', '_', '_', '_', '_', '_', '_']\n",
      "ardvark\n",
      "Guess a letter: a\n",
      "['a', '_', '_', '_', 'a', '_', '_']\n",
      "You won.\n"
     ]
    }
   ],
   "source": [
    "import random\n",
    "continue_guess = False\n",
    "stages = ['''\n",
    "  +---+\n",
    "  |   |\n",
    "  O   |\n",
    " /|\\  |\n",
    " / \\  |\n",
    "      |\n",
    "=========\n",
    "''', '''\n",
    "  +---+\n",
    "  |   |\n",
    "  O   |\n",
    " /|\\  |\n",
    " /    |\n",
    "      |\n",
    "=========\n",
    "''', '''\n",
    "  +---+\n",
    "  |   |\n",
    "  O   |\n",
    " /|\\  |\n",
    "      |\n",
    "      |\n",
    "=========\n",
    "''', '''\n",
    "  +---+\n",
    "  |   |\n",
    "  O   |\n",
    " /|   |\n",
    "      |\n",
    "      |\n",
    "=========''', '''\n",
    "  +---+\n",
    "  |   |\n",
    "  O   |\n",
    "  |   |\n",
    "      |\n",
    "      |\n",
    "=========\n",
    "''', '''\n",
    "  +---+\n",
    "  |   |\n",
    "  O   |\n",
    "      |\n",
    "      |\n",
    "      |\n",
    "=========\n",
    "''', '''\n",
    "  +---+\n",
    "  |   |\n",
    "      |\n",
    "      |\n",
    "      |\n",
    "      |\n",
    "=========\n",
    "''']\n",
    "lives = 6\n",
    "word_list = ['ardvark', 'baboon', 'camel']\n",
    "random_word = random.choice(word_list)\n",
    "blank_list = []\n",
    "for blank in random_word:\n",
    "    blank = '_'\n",
    "    blank_list.append(blank)\n",
    "print(blank_list)\n",
    "print(random_word)\n",
    "while not continue_guess:\n",
    "    word_guess = input('Guess a letter: ').lower()\n",
    "    for word in range(len(random_word)):\n",
    "        if random_word[word].contains( word_guess):\n",
    "            blank_list[word] = word_guess\n",
    "        else:\n",
    "            lives -= 1\n",
    "    print(blank_list)\n",
    "    if \"_\" not in blank_list:\n",
    "        continue_guess = True\n",
    "        print(\"You won.\")"
   ]
  },
  {
   "cell_type": "raw",
   "id": "bfec0d50",
   "metadata": {},
   "source": []
  },
  {
   "cell_type": "code",
   "execution_count": null,
   "id": "0eedac9b",
   "metadata": {},
   "outputs": [],
   "source": []
  }
 ],
 "metadata": {
  "kernelspec": {
   "display_name": "Python 3 (ipykernel)",
   "language": "python",
   "name": "python3"
  },
  "language_info": {
   "codemirror_mode": {
    "name": "ipython",
    "version": 3
   },
   "file_extension": ".py",
   "mimetype": "text/x-python",
   "name": "python",
   "nbconvert_exporter": "python",
   "pygments_lexer": "ipython3",
   "version": "3.9.12"
  }
 },
 "nbformat": 4,
 "nbformat_minor": 5
}
